{
 "cells": [
  {
   "cell_type": "markdown",
   "metadata": {
    "id": "TZZUbWXCo8Wx"
   },
   "source": [
    "Understanding Scale Invariance\n",
    "### CS 655-71970"
   ]
  },
  {
   "cell_type": "code",
   "execution_count": null,
   "metadata": {
    "id": "Jd8dJC59_FFz"
   },
   "outputs": [],
   "source": [
    "# Basic Image Loading\n",
    "from PIL import Image\n",
    "import requests\n",
    "from io import BytesIO\n",
    "response = requests.get('https://raw.githubusercontent.com/ankitmhatre/cs655/main/taco2.jpg')\n",
    "img = Image.open(BytesIO(response.content))\n",
    "\n",
    "# Common\n",
    "from tensorflow.keras.preprocessing import image\n",
    "import numpy as np"
   ]
  },
  {
   "cell_type": "code",
   "execution_count": null,
   "metadata": {
    "colab": {
     "base_uri": "https://localhost:8080/"
    },
    "id": "hge0EtMWoOeI",
    "outputId": "a99bdcda-89cc-403d-a9e6-ef7e8347fc25"
   },
   "outputs": [
    {
     "name": "stdout",
     "output_type": "stream",
     "text": [
      "1/1 [==============================] - 2s 2s/step\n",
      "Downloading data from https://storage.googleapis.com/download.tensorflow.org/data/imagenet_class_index.json\n",
      "35363/35363 [==============================] - 0s 0us/step\n",
      "Predicted: [('n07880968', 'burrito', 0.8035448), ('n07684084', 'French_loaf', 0.0694031), ('n07579787', 'plate', 0.06008326), ('n03887697', 'paper_towel', 0.011272817), ('n03908714', 'pencil_sharpener', 0.004051717)]\n"
     ]
    }
   ],
   "source": [
    "## Resnet50\n",
    "\n",
    "from tensorflow.keras.applications.resnet50 import ResNet50\n",
    "from tensorflow.keras.applications.resnet50 import preprocess_input, decode_predictions\n",
    "\n",
    "modelResNet50 = ResNet50(weights='imagenet')\n",
    "\n",
    "x = image.img_to_array(img)\n",
    "x = np.expand_dims(x, axis=0)\n",
    "x = preprocess_input(x)\n",
    "\n",
    "predsResNet50 = modelResNet50.predict(x)\n",
    "print('Resnet50 - Predicted:', decode_predictions(predsResNet50, top=5)[0])"
   ]
  },
  {
   "cell_type": "code",
   "execution_count": null,
   "metadata": {
    "id": "S4mSniDA9PLq"
   },
   "outputs": [],
   "source": []
  },
  {
   "cell_type": "code",
   "execution_count": null,
   "metadata": {
    "colab": {
     "base_uri": "https://localhost:8080/"
    },
    "id": "os3RadPhwDFD",
    "outputId": "c250e040-6e5b-4ff2-9353-c06e367790b4"
   },
   "outputs": [
    {
     "name": "stdout",
     "output_type": "stream",
     "text": [
      "Downloading data from https://storage.googleapis.com/tensorflow/keras-applications/vgg16/vgg16_weights_tf_dim_ordering_tf_kernels.h5\n",
      "553467096/553467096 [==============================] - 5s 0us/step\n",
      "1/1 [==============================] - 1s 733ms/step\n",
      "Predicted: [('n07745940', 'strawberry', 0.2118403), ('n07753275', 'pineapple', 0.059708443), ('n07749582', 'lemon', 0.054075375), ('n07753592', 'banana', 0.049745075), ('n07880968', 'burrito', 0.04437624)]\n"
     ]
    }
   ],
   "source": [
    "from tensorflow.keras.applications.vgg16 import VGG16\n",
    "from tensorflow.keras.applications.vgg16 import preprocess_input, decode_predictions\n",
    "\n",
    "modelVGG16 = VGG16(weights='imagenet')\n",
    "\n",
    "x = image.img_to_array(img)\n",
    "x = np.expand_dims(x, axis=0)\n",
    "x = preprocess_input(x)\n",
    "\n",
    "predsVGG16 = modelVGG16.predict(x)\n",
    "print('VGG16 - Predicted:', decode_predictions(predsVGG16, top=5)[0])"
   ]
  },
  {
   "cell_type": "markdown",
   "metadata": {
    "id": "HU3z1qkB6ASn"
   },
   "source": []
  },
  {
   "cell_type": "code",
   "execution_count": null,
   "metadata": {
    "colab": {
     "base_uri": "https://localhost:8080/"
    },
    "id": "Kp-yyoCzwgqy",
    "outputId": "67b7fcda-bc35-48f1-958c-d9ed17450735"
   },
   "outputs": [
    {
     "name": "stdout",
     "output_type": "stream",
     "text": [
      "Downloading data from https://storage.googleapis.com/tensorflow/keras-applications/vgg19/vgg19_weights_tf_dim_ordering_tf_kernels.h5\n",
      "574710816/574710816 [==============================] - 9s 0us/step\n",
      "1/1 [==============================] - 1s 868ms/step\n",
      "Predicted: [('n07745940', 'strawberry', 0.49003795), ('n07579787', 'plate', 0.11983647), ('n07583066', 'guacamole', 0.061401516), ('n07614500', 'ice_cream', 0.04689477), ('n07880968', 'burrito', 0.027317762)]\n"
     ]
    }
   ],
   "source": [
    "# from tensorflow.keras.applications.vgg19 import VGG19\n",
    "# from tensorflow.keras.applications.vgg19 import preprocess_input, decode_predictions\n",
    "\n",
    "# modelVGG19 = VGG19(weights='imagenet')\n",
    "\n",
    "# x = image.img_to_array(img)\n",
    "# x = np.expand_dims(x, axis=0)\n",
    "# x = preprocess_input(x)\n",
    "\n",
    "# predsVGG19 = modelVGG19.predict(x)\n",
    "# print('VGG19 - Predicted:', decode_predictions(predsVGG19, top=5)[0])"
   ]
  },
  {
   "cell_type": "code",
   "execution_count": null,
   "metadata": {
    "id": "yGqtvtxHAN-X"
   },
   "outputs": [],
   "source": [
    "# import tensorflow as tf\n",
    "# from tensorflow.keras.applications.vgg16 import VGG16\n",
    "# from tensorflow.keras.metrics import Accuracy\n",
    "\n",
    "# # Load the VGG16 model\n",
    "# model = VGG16(weights='imagenet', include_top=True)\n",
    "\n",
    "# # Load the dataset\n",
    "# (x_train, y_train), (x_test, y_test) = tf.keras.datasets.cifar10.load_data()\n",
    "\n",
    "# # Normalize the dataset\n",
    "# # x_train = x_train / 255.0\n",
    "# # x_test = x_test / 255.0\n",
    "\n",
    "# x_test = tf.image.resize(x_test, (224, 224))\n",
    "# x_train = tf.image.resize(x_train, (224, 224))\n",
    "\n",
    "\n",
    "# # Evaluate the model on the dataset\n",
    "# predictions = model.predict(x_test)\n",
    "\n",
    "# # Print the accuracy of the model\n",
    "# accuracy = tf.keras.metrics.Accuracy(y_test, predictions)\n",
    "# print(accuracy)"
   ]
  },
  {
   "cell_type": "code",
   "execution_count": null,
   "metadata": {
    "colab": {
     "base_uri": "https://localhost:8080/",
     "height": 477
    },
    "id": "MI3Bo4OE6E91",
    "outputId": "4cbb2ae0-ecce-4e47-f7c7-baf0e4fb99e1"
   },
   "outputs": [],
   "source": [
    "\n",
    "\n",
    "from tensorflow.keras.applications import ResNet50\n",
    "from tensorflow.keras.models import Sequential\n",
    "from tensorflow.keras.layers import Dense, Flatten\n",
    "from tensorflow.keras.optimizers import Adam\n",
    "from tensorflow.keras.preprocessing.image import ImageDataGenerator\n",
    "\n",
    "# Define constants\n",
    "input_size = (224, 224)\n",
    "batch_size = 32\n",
    "epochs = 10\n",
    "num_classes = 10  # Change this based on the number of classes in your dataset\n",
    "\n",
    "# Build ResNet50 model without top layers\n",
    "base_model = ResNet50(weights='imagenet', include_top=False, input_shape=(224, 224, 3))\n",
    "\n",
    "# Add custom classification layers\n",
    "model = Sequential()\n",
    "model.add(base_model)\n",
    "model.add(Flatten())\n",
    "model.add(Dense(256, activation='relu'))\n",
    "model.add(Dense(num_classes, activation='softmax'))\n",
    "\n",
    "# Compile the model\n",
    "model.compile(optimizer=Adam(), loss='categorical_crossentropy', metrics=['accuracy'])\n",
    "\n",
    "# Data augmentation\n",
    "train_datagen = ImageDataGenerator(rescale=1./255,\n",
    "                                   shear_range=0.2,\n",
    "                                   zoom_range=0.2,\n",
    "                                   horizontal_flip=True)\n",
    "\n",
    "test_datagen = ImageDataGenerator(rescale=1./255)\n",
    "\n",
    "# Load and preprocess the dataset\n",
    "train_generator = train_datagen.flow_from_directory('path/to/train/dataset',\n",
    "                                                    target_size=input_size,\n",
    "                                                    batch_size=batch_size,\n",
    "                                                    class_mode='categorical')\n",
    "\n",
    "validation_generator = test_datagen.flow_from_directory('path/to/validation/dataset',\n",
    "                                                        target_size=input_size,\n",
    "                                                        batch_size=batch_size,\n",
    "                                                        class_mode='categorical')\n",
    "\n",
    "# Train the model\n",
    "model.fit(train_generator,\n",
    "          epochs=epochs,\n",
    "          validation_data=validation_generator)\n",
    "\n",
    "# Evaluate the model\n",
    "test_generator = test_datagen.flow_from_directory('path/to/test/dataset',\n",
    "                                                  target_size=input_size,\n",
    "                                                  batch_size=batch_size,\n",
    "                                                  class_mode='categorical')\n",
    "\n",
    "eval_result = model.evaluate(test_generator)\n",
    "print(f'Test loss: {eval_result[0]}, Test accuracy: {eval_result[1]}')\n"
   ]
  },
  {
   "cell_type": "code",
   "execution_count": 3,
   "metadata": {
    "colab": {
     "base_uri": "https://localhost:8080/"
    },
    "id": "33YXkhD7-F_e",
    "outputId": "388b488e-3e4f-4e0f-eec0-074f2812d1ef",
    "scrolled": false
   },
   "outputs": [
    {
     "name": "stdout",
     "output_type": "stream",
     "text": [
      "\u001b[31mERROR: Could not find a version that satisfies the requirement tensorflow-preprocessing (from versions: none)\u001b[0m\u001b[31m\n",
      "\u001b[0m\u001b[31mERROR: No matching distribution found for tensorflow-preprocessing\u001b[0m\u001b[31m\n",
      "\u001b[0m"
     ]
    }
   ],
   "source": [
    "!pip install tensorflow-preprocessing"
   ]
  },
  {
   "cell_type": "code",
   "execution_count": 2,
   "metadata": {
    "scrolled": true
   },
   "outputs": [
    {
     "name": "stdout",
     "output_type": "stream",
     "text": [
      "Collecting opencv-python\n",
      "  Obtaining dependency information for opencv-python from https://files.pythonhosted.org/packages/a1/f6/57de91ea40c670527cd47a6548bf2cbedc68cec57c041793b256356abad7/opencv_python-4.8.1.78-cp37-abi3-macosx_11_0_arm64.whl.metadata\n",
      "  Downloading opencv_python-4.8.1.78-cp37-abi3-macosx_11_0_arm64.whl.metadata (19 kB)\n",
      "Requirement already satisfied: numpy>=1.21.2 in /Users/ankit/anaconda3/lib/python3.11/site-packages (from opencv-python) (1.24.3)\n",
      "Downloading opencv_python-4.8.1.78-cp37-abi3-macosx_11_0_arm64.whl (33.1 MB)\n",
      "\u001b[2K   \u001b[90m━━━━━━━━━━━━━━━━━━━━━━━━━━━━━━━━━━━━━━━━\u001b[0m \u001b[32m33.1/33.1 MB\u001b[0m \u001b[31m45.3 MB/s\u001b[0m eta \u001b[36m0:00:00\u001b[0m00:01\u001b[0m00:01\u001b[0m\n",
      "\u001b[?25hInstalling collected packages: opencv-python\n",
      "Successfully installed opencv-python-4.8.1.78\n",
      "Note: you may need to restart the kernel to use updated packages.\n"
     ]
    }
   ],
   "source": [
    "pip install opencv-python"
   ]
  },
  {
   "cell_type": "code",
   "execution_count": 7,
   "metadata": {
    "colab": {
     "base_uri": "https://localhost:8080/",
     "height": 107
    },
    "id": "gZxGztLq9X__",
    "outputId": "77fa1b80-7f32-4d17-eed7-2d3ec1e2de1e",
    "scrolled": false
   },
   "outputs": [
    {
     "data": {
      "text/html": [
       "<div>\n",
       "<style scoped>\n",
       "    .dataframe tbody tr th:only-of-type {\n",
       "        vertical-align: middle;\n",
       "    }\n",
       "\n",
       "    .dataframe tbody tr th {\n",
       "        vertical-align: top;\n",
       "    }\n",
       "\n",
       "    .dataframe thead th {\n",
       "        text-align: right;\n",
       "    }\n",
       "</style>\n",
       "<table border=\"1\" class=\"dataframe\">\n",
       "  <thead>\n",
       "    <tr style=\"text-align: right;\">\n",
       "      <th></th>\n",
       "      <th>path</th>\n",
       "      <th>label</th>\n",
       "    </tr>\n",
       "  </thead>\n",
       "  <tbody>\n",
       "    <tr>\n",
       "      <th>0</th>\n",
       "      <td>../d/input/indian-food-images-dataset/shrikhan...</td>\n",
       "      <td>shrikhand</td>\n",
       "    </tr>\n",
       "    <tr>\n",
       "      <th>1</th>\n",
       "      <td>../d/input/indian-food-images-dataset/shrikhan...</td>\n",
       "      <td>shrikhand</td>\n",
       "    </tr>\n",
       "    <tr>\n",
       "      <th>2</th>\n",
       "      <td>../d/input/indian-food-images-dataset/shrikhan...</td>\n",
       "      <td>shrikhand</td>\n",
       "    </tr>\n",
       "    <tr>\n",
       "      <th>3</th>\n",
       "      <td>../d/input/indian-food-images-dataset/shrikhan...</td>\n",
       "      <td>shrikhand</td>\n",
       "    </tr>\n",
       "    <tr>\n",
       "      <th>4</th>\n",
       "      <td>../d/input/indian-food-images-dataset/shrikhan...</td>\n",
       "      <td>shrikhand</td>\n",
       "    </tr>\n",
       "    <tr>\n",
       "      <th>...</th>\n",
       "      <td>...</td>\n",
       "      <td>...</td>\n",
       "    </tr>\n",
       "    <tr>\n",
       "      <th>3995</th>\n",
       "      <td>../d/input/indian-food-images-dataset/sheer_ko...</td>\n",
       "      <td>sheer_korma</td>\n",
       "    </tr>\n",
       "    <tr>\n",
       "      <th>3996</th>\n",
       "      <td>../d/input/indian-food-images-dataset/sheer_ko...</td>\n",
       "      <td>sheer_korma</td>\n",
       "    </tr>\n",
       "    <tr>\n",
       "      <th>3997</th>\n",
       "      <td>../d/input/indian-food-images-dataset/sheer_ko...</td>\n",
       "      <td>sheer_korma</td>\n",
       "    </tr>\n",
       "    <tr>\n",
       "      <th>3998</th>\n",
       "      <td>../d/input/indian-food-images-dataset/sheer_ko...</td>\n",
       "      <td>sheer_korma</td>\n",
       "    </tr>\n",
       "    <tr>\n",
       "      <th>3999</th>\n",
       "      <td>../d/input/indian-food-images-dataset/sheer_ko...</td>\n",
       "      <td>sheer_korma</td>\n",
       "    </tr>\n",
       "  </tbody>\n",
       "</table>\n",
       "<p>4000 rows × 2 columns</p>\n",
       "</div>"
      ],
      "text/plain": [
       "                                                   path        label\n",
       "0     ../d/input/indian-food-images-dataset/shrikhan...    shrikhand\n",
       "1     ../d/input/indian-food-images-dataset/shrikhan...    shrikhand\n",
       "2     ../d/input/indian-food-images-dataset/shrikhan...    shrikhand\n",
       "3     ../d/input/indian-food-images-dataset/shrikhan...    shrikhand\n",
       "4     ../d/input/indian-food-images-dataset/shrikhan...    shrikhand\n",
       "...                                                 ...          ...\n",
       "3995  ../d/input/indian-food-images-dataset/sheer_ko...  sheer_korma\n",
       "3996  ../d/input/indian-food-images-dataset/sheer_ko...  sheer_korma\n",
       "3997  ../d/input/indian-food-images-dataset/sheer_ko...  sheer_korma\n",
       "3998  ../d/input/indian-food-images-dataset/sheer_ko...  sheer_korma\n",
       "3999  ../d/input/indian-food-images-dataset/sheer_ko...  sheer_korma\n",
       "\n",
       "[4000 rows x 2 columns]"
      ]
     },
     "metadata": {},
     "output_type": "display_data"
    }
   ],
   "source": [
    "import os\n",
    "import cv2\n",
    "import random\n",
    "import numpy as np\n",
    "import pandas as pd\n",
    "import matplotlib.pyplot as plt\n",
    "import tensorflow as tf\n",
    "from tensorflow.keras.utils import to_categorical\n",
    "#from tensorflow.keras.preprocessing.image import load_img, img_to_array\n",
    "from tensorflow.keras.preprocessing.image import ImageDataGenerator\n",
    "from sklearn.metrics import classification_report, log_loss, accuracy_score\n",
    "from sklearn.model_selection import train_test_split\n",
    "from tqdm import tqdm\n",
    "dir0 = '../d/input/indian-food-images-dataset/'\n",
    "paths=[]\n",
    "labels=[]\n",
    "\n",
    "for dirname, _, filenames in os.walk(dir0):\n",
    "    for filename in filenames:\n",
    "        if filename[-4:]=='.jpg':\n",
    "            paths+=[(os.path.join(dirname, filename))]\n",
    "            labels+=[dirname.split('/')[-1]]\n",
    "data=pd.DataFrame(columns=['path','label'])\n",
    "data['path']=paths\n",
    "data['label']=labels\n",
    "display(data)"
   ]
  },
  {
   "cell_type": "code",
   "execution_count": 44,
   "metadata": {},
   "outputs": [
    {
     "name": "stderr",
     "output_type": "stream",
     "text": [
      "WARNING:absl:At this time, the v2.11+ optimizer `tf.keras.optimizers.Adam` runs slowly on M1/M2 Macs, please use the legacy Keras optimizer instead, located at `tf.keras.optimizers.legacy.Adam`.\n",
      "WARNING:absl:There is a known slowdown when using v2.11+ Keras optimizers on M1/M2 Macs. Falling back to the legacy Keras optimizer, i.e., `tf.keras.optimizers.legacy.Adam`.\n"
     ]
    },
    {
     "name": "stdout",
     "output_type": "stream",
     "text": [
      "Found 3200 validated image filenames belonging to 80 classes.\n",
      "Found 800 validated image filenames belonging to 80 classes.\n",
      "Epoch 1/10\n",
      "100/100 [==============================] - 498s 5s/step - loss: 5.4733 - accuracy: 0.0134 - val_loss: 17.8833 - val_accuracy: 0.0063\n",
      "Epoch 2/10\n",
      "100/100 [==============================] - 553s 6s/step - loss: 4.3051 - accuracy: 0.0216 - val_loss: 4.3850 - val_accuracy: 0.0037\n",
      "Epoch 3/10\n",
      "100/100 [==============================] - 551s 6s/step - loss: 4.2023 - accuracy: 0.0294 - val_loss: 4.3876 - val_accuracy: 0.0037\n",
      "Epoch 4/10\n",
      "100/100 [==============================] - 526s 5s/step - loss: 4.0870 - accuracy: 0.0475 - val_loss: 4.4121 - val_accuracy: 0.0075\n",
      "Epoch 5/10\n",
      "100/100 [==============================] - 524s 5s/step - loss: 3.9472 - accuracy: 0.0572 - val_loss: 4.4719 - val_accuracy: 0.0113\n",
      "Epoch 6/10\n",
      "100/100 [==============================] - 520s 5s/step - loss: 3.7880 - accuracy: 0.0853 - val_loss: 4.5427 - val_accuracy: 0.0188\n",
      "Epoch 7/10\n",
      "100/100 [==============================] - 502s 5s/step - loss: 3.6536 - accuracy: 0.1031 - val_loss: 89.5699 - val_accuracy: 0.0125\n",
      "Epoch 8/10\n",
      "100/100 [==============================] - 492s 5s/step - loss: 3.6496 - accuracy: 0.0988 - val_loss: 12.7879 - val_accuracy: 0.0150\n",
      "Epoch 9/10\n",
      "100/100 [==============================] - 537s 5s/step - loss: 3.6799 - accuracy: 0.1050 - val_loss: 6.4937 - val_accuracy: 0.0213\n",
      "Epoch 10/10\n",
      "100/100 [==============================] - 477s 5s/step - loss: 3.4705 - accuracy: 0.1378 - val_loss: 3.8330 - val_accuracy: 0.0763\n"
     ]
    },
    {
     "data": {
      "image/png": "[encoded data removed]",
      "text/plain": [
       "<Figure size 640x480 with 1 Axes>"
      ]
     },
     "metadata": {},
     "output_type": "display_data"
    },
    {
     "name": "stderr",
     "output_type": "stream",
     "text": [
      "/Users/ankit/anaconda3/lib/python3.11/site-packages/keras/src/engine/training.py:3000: UserWarning: You are saving your model as an HDF5 file via `model.save()`. This file format is considered legacy. We recommend using instead the native Keras format, e.g. `model.save('my_model.keras')`.\n",
      "  saving_api.save_model(\n"
     ]
    },
    {
     "name": "stdout",
     "output_type": "stream",
     "text": [
      "25/25 [==============================] - 23s 932ms/step - loss: 3.8330 - accuracy: 0.0763\n",
      "Test loss: 3.83304500579834, Test accuracy: 0.07625000178813934\n"
     ]
    }
   ],
   "source": [
    "import os\n",
    "import json\n",
    "from tensorflow.keras.applications import ResNet50\n",
    "from tensorflow.keras.models import Sequential\n",
    "from tensorflow.keras.layers import Dense, Flatten\n",
    "from tensorflow.keras.optimizers import Adam\n",
    "from tensorflow.keras.preprocessing.image import ImageDataGenerator\n",
    "from sklearn.model_selection import train_test_split\n",
    "        \n",
    "# Set the path to your dataset\n",
    "dir0 = '../d/input/indian-food-images-dataset/'\n",
    "\n",
    "# Collect paths and labels\n",
    "paths = []\n",
    "labels = []\n",
    "for dirname, _, filenames in os.walk(dir0):\n",
    "    for filename in filenames:\n",
    "        if filename[-4:] == '.jpg':\n",
    "            paths += [os.path.join(dirname, filename)]\n",
    "            labels += [dirname.split('/')[-1]]\n",
    "\n",
    "# Create a DataFrame for easier handling\n",
    "import pandas as pd\n",
    "data = pd.DataFrame({'Path': paths, 'Label': labels})\n",
    "\n",
    "# Split the dataset into training and validation sets\n",
    "train_data, val_data = train_test_split(data, test_size=0.2, random_state=42)\n",
    "\n",
    "# Define constants\n",
    "input_size = (224, 224)\n",
    "batch_size = 32\n",
    "epochs = 10\n",
    "num_classes = len(data['Label'].unique())\n",
    "data_info = {\n",
    "    'data_generator_config': {\n",
    "        'rescale': 1./255,\n",
    "        'shear_range': 0.2,\n",
    "        'zoom_range': 0.2,\n",
    "        'horizontal_flip': True\n",
    "    },\n",
    "    'class_labels': list(data['Label'].unique())\n",
    "}\n",
    "with open('../d/working/data_info.json', 'w') as json_file:\n",
    "    json.dump(data_info, json_file)\n",
    "# ...\n",
    "\n",
    "# Load data generator configuration and class information\n",
    "with open('../d/working/data_info.json', 'r') as json_file:\n",
    "    loaded_data_info = json.load(json_file)\n",
    "    loaded_data_generator_config = loaded_data_info['data_generator_config']\n",
    "    loaded_class_labels = loaded_data_info['class_labels']\n",
    "    \n",
    "    \n",
    "\n",
    "# Build ResNet50 model without top layers\n",
    "base_model = ResNet50(weights='imagenet', include_top=False, input_shape=(224, 224, 3))\n",
    "\n",
    "# Add custom classification layers\n",
    "model = Sequential()\n",
    "model.add(base_model)\n",
    "model.add(Flatten())\n",
    "model.add(Dense(256, activation='relu'))\n",
    "model.add(Dense(num_classes, activation='softmax'))\n",
    "\n",
    "# Compile the model\n",
    "model.compile(optimizer=Adam(), loss='categorical_crossentropy', metrics=['accuracy'])\n",
    "\n",
    "# Data augmentation\n",
    "train_datagen = ImageDataGenerator(**loaded_data_generator_config)\n",
    "\n",
    "val_datagen = ImageDataGenerator(rescale=1./255)\n",
    "\n",
    "# Load and preprocess the training dataset\n",
    "train_generator = train_datagen.flow_from_dataframe(dataframe=train_data,\n",
    "                                                    x_col='Path',\n",
    "                                                    y_col='Label',\n",
    "                                                    target_size=input_size,\n",
    "                                                    batch_size=batch_size,\n",
    "                                                    class_mode='categorical')\n",
    "\n",
    "# Load and preprocess the validation dataset\n",
    "val_generator = val_datagen.flow_from_dataframe(dataframe=val_data,\n",
    "                                                x_col='Path',\n",
    "                                                y_col='Label',\n",
    "                                                target_size=input_size,\n",
    "                                                batch_size=batch_size,\n",
    "                                                class_mode='categorical')\n",
    "\n",
    "# Train the model\n",
    "history = model.fit(train_generator,\n",
    "          epochs=epochs,\n",
    "          validation_data=val_generator)\n",
    "# Plot the graph\n",
    "\n",
    "plt.plot(history.history['accuracy'], label='Training Accuracy')\n",
    "plt.plot(history.history['val_accuracy'], label='Validation Accuracy')\n",
    "plt.title('Training and Validation Accuracy')\n",
    "plt.xlabel('Epoch')\n",
    "plt.ylabel('Accuracy')\n",
    "plt.legend()\n",
    "plt.show()\n",
    "\n",
    "# Save the trained model\n",
    "\n",
    "model.save('../d/working/food_recognition_model2.h5')\n",
    "\n",
    "# Evaluate the model\n",
    "test_loss, test_accuracy = model.evaluate(val_generator)\n",
    "print(f'Test loss: {test_loss}, Test accuracy: {test_accuracy}')\n"
   ]
  },
  {
   "cell_type": "code",
   "execution_count": 43,
   "metadata": {},
   "outputs": [
    {
     "name": "stdout",
     "output_type": "stream",
     "text": [
      "WARNING:tensorflow:5 out of the last 5 calls to <function Model.make_predict_function.<locals>.predict_function at 0x16dabda80> triggered tf.function retracing. Tracing is expensive and the excessive number of tracings could be due to (1) creating @tf.function repeatedly in a loop, (2) passing tensors with different shapes, (3) passing Python objects instead of tensors. For (1), please define your @tf.function outside of the loop. For (2), @tf.function has reduce_retracing=True option that can avoid unnecessary retracing. For (3), please refer to https://www.tensorflow.org/guide/function#controlling_retracing and https://www.tensorflow.org/api_docs/python/tf/function for  more details.\n"
     ]
    },
    {
     "name": "stderr",
     "output_type": "stream",
     "text": [
      "WARNING:tensorflow:5 out of the last 5 calls to <function Model.make_predict_function.<locals>.predict_function at 0x16dabda80> triggered tf.function retracing. Tracing is expensive and the excessive number of tracings could be due to (1) creating @tf.function repeatedly in a loop, (2) passing tensors with different shapes, (3) passing Python objects instead of tensors. For (1), please define your @tf.function outside of the loop. For (2), @tf.function has reduce_retracing=True option that can avoid unnecessary retracing. For (3), please refer to https://www.tensorflow.org/guide/function#controlling_retracing and https://www.tensorflow.org/api_docs/python/tf/function for  more details.\n"
     ]
    },
    {
     "name": "stdout",
     "output_type": "stream",
     "text": [
      "1/1 [==============================] - 1s 600ms/step\n",
      "Predicted class label: kakinada_khaja\n"
     ]
    }
   ],
   "source": [
    "from tensorflow.keras.models import load_model\n",
    "from tensorflow.keras.preprocessing import image\n",
    "import numpy as np\n",
    "\n",
    "# Load the trained model\n",
    "loaded_model = load_model('../d/working/food_recognition_model.h5')\n",
    "\n",
    "def get_label_from_index(index):\n",
    "    return loaded_class_labels[index]\n",
    "\n",
    "\n",
    "# Load and preprocess an image for prediction\n",
    "image_path = '../samples/lassi.jpg'  # Replace with the actual path to your image\n",
    "img = image.load_img(image_path, target_size=(224, 224))\n",
    "img_array = image.img_to_array(img)\n",
    "img_array = np.expand_dims(img_array, axis=0)\n",
    "img_array /= 255.0  # Normalize the pixel values\n",
    "\n",
    "# Make predictions\n",
    "predictions = loaded_model.predict(img_array)\n",
    "\n",
    "# Get the predicted class index\n",
    "predicted_class_index = np.argmax(predictions)\n",
    "\n",
    "# Get the predicted class label using the loaded class labels\n",
    "predicted_class_label = get_label_from_index(predicted_class_index)\n",
    "\n",
    "# Print the predicted class label\n",
    "print(f'Predicted class label: {predicted_class_label}')\n",
    "\n",
    "\n",
    "\n",
    "\n",
    "\n",
    "\n",
    "\n",
    "\n",
    "\n"
   ]
  },
  {
   "cell_type": "code",
   "execution_count": null,
   "metadata": {},
   "outputs": [],
   "source": []
  }
 ],
 "metadata": {
  "colab": {
   "provenance": []
  },
  "kernelspec": {
   "display_name": "Python 3 (ipykernel)",
   "language": "python",
   "name": "python3"
  },
  "language_info": {
   "codemirror_mode": {
    "name": "ipython",
    "version": 3
   },
   "file_extension": ".py",
   "mimetype": "text/x-python",
   "name": "python",
   "nbconvert_exporter": "python",
   "pygments_lexer": "ipython3",
   "version": "3.11.4"
  }
 },
 "nbformat": 4,
 "nbformat_minor": 1
}
